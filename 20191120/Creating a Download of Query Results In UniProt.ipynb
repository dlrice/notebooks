{
 "cells": [
  {
   "cell_type": "code",
   "execution_count": 1,
   "metadata": {},
   "outputs": [],
   "source": [
    "from IPython.core.display import display, HTML"
   ]
  },
  {
   "cell_type": "markdown",
   "metadata": {},
   "source": [
    "# Creating a Download of Query Results In UniProt\n",
    "The UniProt website needs to provide the functionality of downloading the results of a query into a file. The backend service provides various formats and to ask for them in the request it is required to set the `Accept` header to the format and in the case of `fasta (canonical & isoform)` \n",
    "\n",
    "\n",
    "```\n",
    "format                      headers.Accept               url param\n",
    "-----------------------------------------------------------------------------\n",
    "excel                       application/vnd.ms-excel\n",
    "fasta canonical             text/fasta\n",
    "fasta canonical & isoform   text/fasta                   includeIsoform=true\n",
    "flatfile                    text/flatfile\n",
    "gff                         text/gff\n",
    "list                        text/list\n",
    "obo                         text/obo\n",
    "tsv                         text/tsv\n",
    "xml                         application/rdf+xml\n",
    "```\n",
    "\n",
    "for example the following will get a flatfile of the query a4:\n",
    "```\n",
    "curl -s -H 'accept:text/flatfile' 'https://wwwdev.ebi.ac.uk/uniprot/api/uniprotkb/download?query=a4'\n",
    "```\n",
    "\n",
    "the following script runs over all of them:"
   ]
  },
  {
   "cell_type": "code",
   "execution_count": 2,
   "metadata": {},
   "outputs": [
    {
     "name": "stdout",
     "output_type": "stream",
     "text": [
      "     Bytes Format\n",
      "    336024 application/json\n",
      "    179834 text/flatfile\n",
      "         7 text/list\n",
      "       980 text/tsv\n",
      "       154 application/vnd.ms-excel\n",
      "       875 text/fasta\n",
      "       821 text/fasta (includeIsoform=true)\n",
      "     38322 text/gff\n",
      "         0 text/obo\n",
      "   1219512 application/rdf+xml\n"
     ]
    }
   ],
   "source": [
    "%%bash\n",
    "printf \"%10s %s\\n\" \"Bytes\" \"Format\"\n",
    "for format in \\\n",
    "    application/json \\\n",
    "    text/flatfile \\\n",
    "    text/list \\\n",
    "    text/tsv \\\n",
    "    application/vnd.ms-excel \\\n",
    "    text/fasta \\\n",
    "    text/gff \\\n",
    "    text/obo \\\n",
    "    application/rdf+xml\n",
    "do\n",
    "    bytes=$(curl -s -H 'accept:'\"${format}\"'' 'https://wwwdev.ebi.ac.uk/uniprot/api/uniprotkb/download?query=a4&size=1' | wc -c)\n",
    "    printf \"%10s %s\\n\" $bytes $format\n",
    "    if [ \"$format\" == \"text/fasta\" ]\n",
    "    then\n",
    "        bytes=$(curl -s -H 'accept:'\"${format}\"'' 'https://wwwdev.ebi.ac.uk/uniprot/api/uniprotkb/download?query=a4&size=1&includeIsoform=true' | wc -c)\n",
    "        printf \"%10s %s\\n\" $bytes \"$format (includeIsoform=true)\"\n",
    "    fi\n",
    "done"
   ]
  },
  {
   "cell_type": "markdown",
   "metadata": {},
   "source": [
    "## How Downloading Normally Works in JavaScript/HTML\n",
    "Imagine you wanted to create a link to download the latest Ubuntu release. This can be done with HTML:"
   ]
  },
  {
   "cell_type": "code",
   "execution_count": 3,
   "metadata": {},
   "outputs": [
    {
     "data": {
      "text/html": [
       "\n",
       "<a download href=\"http://www.mirrorservice.org/sites/releases.ubuntu.com/18.04.3/ubuntu-18.04.3-desktop-amd64.iso\">\n",
       "    download ubuntu\n",
       "</a>\n"
      ],
      "text/plain": [
       "<IPython.core.display.HTML object>"
      ]
     },
     "metadata": {},
     "output_type": "display_data"
    }
   ],
   "source": [
    "display(HTML('''\n",
    "<a download href=\"http://www.mirrorservice.org/sites/releases.ubuntu.com/18.04.3/ubuntu-18.04.3-desktop-amd64.iso\">\n",
    "    download ubuntu\n",
    "</a>\n",
    "'''))"
   ]
  },
  {
   "cell_type": "markdown",
   "metadata": {},
   "source": [
    "and with js this can be done dynamically like so:\n",
    "```javascript\n",
    "const link = document.createElement('a');\n",
    "link.href = http://www.mirrorservice.org/sites/releases.ubuntu.com/18.04.3/ubuntu-18.04.3-desktop-amd64.iso;\n",
    "link.setAttribute('download', 'download');\n",
    "document.body.appendChild(link);\n",
    "link.click();\n",
    "```\n",
    "but this method **cannot** specify the headers.\n",
    "\n",
    "\n",
    "## The Problem\n",
    "The motivation of specifying the format by setting request headers is that this is considered a more RESTful approach because the data is a single endpoint and the format is just one version of that data. The issue with having to specify the format in the accept header is that is not possible to specify the headers, via JavaScript, that this file should be downloaded as a file (eg a separate stream process detached from the current browser tab with progress shown and the ability to cancel the download).\n",
    "\n",
    "We can use an `XMLHttpRequest` or `fetch` request to set the headers. The benefit of fetch is that it ...\n",
    ">allows you to make network requests similar to XMLHttpRequest (XHR). The main difference is that the Fetch API uses Promises, which enables a simpler and cleaner API, avoiding callback hell and having to remember the complex API of XMLHttpRequest. [https://developers.google.com/web/updates/2015/03/introduction-to-fetch]\n",
    "\n",
    "so we will use axios as our fetch API. This would look something like this to get a flatfile of the query a4:\n",
    "```\n",
    "axios.get(\n",
    "    'https://wwwdev.ebi.ac.uk/uniprot/api/uniprotkb/download?query=a4&size=1',\n",
    "    {\n",
    "      headers: {\n",
    "        Accept: 'text/flatfile',\n",
    "      },\n",
    "    }\n",
    "  )\n",
    "  .then(response => {\n",
    "    // provide response.data to the client\n",
    "  });\n",
    "```\n",
    "\n",
    "the issue here is that the response has to be in the browser memory before it can be redirected to the user. A user might want to download 1GB of results (eg they have selected loads of columns for all entries in the DB). This would be problematic because:\n",
    "\n",
    "1. This will fill up the user's browser's memory\n",
    "2. There will be no indication of progress (eg 50% done)\n",
    "3. It will be tied to the web app's browser tab as it's not a separate download process. If this is closed the download cancels.\n",
    "\n",
    "Problem 1 could potentially be solved with the Streams API but this seems a very experimental technology (not supported in FireFox according to https://developer.mozilla.org/en-US/docs/Web/API/Streams_API)\n",
    "\n",
    "\n",
    "## A Less RESTful Solution\n",
    "An alternative and less RESTful way is to request a particular file format is by using a `format` parameter in the url (ie like `includeIsoform` already is). Then to access the flatfile format of the a4 query we can do:\n",
    "\n",
    "```\n",
    "curl -s 'https://wwwdev.ebi.ac.uk/uniprot/api/uniprotkb/download?query=a4&format=flatfile'\n",
    "```\n",
    "\n",
    "And we can use the previously mentioned HTML/JS means of downloading the file.\n",
    "\n",
    "\n",
    "## Summary\n",
    "1. I don't know how to specify the headers when we want to download a file from an endpoint\n",
    "2. There is a solution but this isn't RESTful and so isn't preferable either."
   ]
  },
  {
   "cell_type": "code",
   "execution_count": null,
   "metadata": {},
   "outputs": [],
   "source": []
  }
 ],
 "metadata": {
  "kernelspec": {
   "display_name": "Python 3",
   "language": "python",
   "name": "python3"
  },
  "language_info": {
   "codemirror_mode": {
    "name": "ipython",
    "version": 3
   },
   "file_extension": ".py",
   "mimetype": "text/x-python",
   "name": "python",
   "nbconvert_exporter": "python",
   "pygments_lexer": "ipython3",
   "version": "3.7.3"
  }
 },
 "nbformat": 4,
 "nbformat_minor": 2
}
