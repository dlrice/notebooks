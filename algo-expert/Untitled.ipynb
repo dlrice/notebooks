{
 "cells": [
  {
   "cell_type": "code",
   "execution_count": 14,
   "metadata": {},
   "outputs": [],
   "source": [
    "matrix = [\n",
    "    [1, 0, 0, 1, 0, 1, 0, 0, 1, 1, 1, 0],\n",
    "    [1, 0, 1, 0, 0, 1, 1, 1, 1, 0, 1, 0],\n",
    "    [0, 0, 1, 0, 1, 1, 0, 1, 0, 1, 1, 1],\n",
    "    [1, 0, 1, 0, 1, 1, 0, 0, 0, 1, 0, 0],\n",
    "    [1, 0, 1, 1, 0, 0, 0, 1, 1, 1, 0, 1]\n",
    "  ]"
   ]
  },
  {
   "cell_type": "code",
   "execution_count": null,
   "metadata": {},
   "outputs": [],
   "source": []
  },
  {
   "cell_type": "code",
   "execution_count": 30,
   "metadata": {},
   "outputs": [],
   "source": [
    "from itertools import product\n",
    "surrounding = product([-1, 1], [-1, 1])\n",
    "\n",
    "class River():\n",
    "    def __init__(self, locs):\n",
    "        self.parts = set(locs)\n",
    "    \n",
    "    def is_adjacent(self, loc):\n",
    "        return any([abs(loc[0] - p[0]) + abs(loc[1] - p[1]) == 1 for p in self.parts])\n",
    "    \n",
    "    def __repr__(self):\n",
    "        return f'River({\",\".join([str(part) for part in self.parts])})'\n",
    "    \n",
    "    def __add__(self, other):\n",
    "        self.parts.add(other)\n",
    "    \n",
    "    def add(self, loc):\n",
    "        self.parts.add(loc)\n",
    "        \n",
    "    def __len__(self):\n",
    "        return len(self.parts)\n",
    "        \n",
    "def mergeRivers(rivers):\n",
    "    return River(set.union(*[r.parts for r in rivers]))\n",
    "    \n",
    "def riverSizes(matrix):\n",
    "    rivers = []\n",
    "    for ix, i in enumerate(matrix):\n",
    "        for jx, j in enumerate(i):\n",
    "            if j:\n",
    "                loc = (ix, jx)\n",
    "                adjacent = [river for river in rivers if river.is_adjacent(loc)]\n",
    "                non_adjacent = [river for river in rivers if not river.is_adjacent(loc)]\n",
    "                if len(adjacent):\n",
    "                    merged = mergeRivers(adjacent)\n",
    "                    merged.add(loc)\n",
    "                    rivers = [merged] + non_adjacent\n",
    "                else:\n",
    "                    rivers.append(River([loc]))\n",
    "    return [len(r) for r in rivers]"
   ]
  },
  {
   "cell_type": "code",
   "execution_count": 31,
   "metadata": {},
   "outputs": [
    {
     "data": {
      "text/plain": [
       "[21, 5, 2, 2, 1, 1]"
      ]
     },
     "execution_count": 31,
     "metadata": {},
     "output_type": "execute_result"
    }
   ],
   "source": [
    "riverSizes(matrix)"
   ]
  },
  {
   "cell_type": "code",
   "execution_count": null,
   "metadata": {},
   "outputs": [],
   "source": []
  }
 ],
 "metadata": {
  "kernelspec": {
   "display_name": "Python 3",
   "language": "python",
   "name": "python3"
  },
  "language_info": {
   "codemirror_mode": {
    "name": "ipython",
    "version": 3
   },
   "file_extension": ".py",
   "mimetype": "text/x-python",
   "name": "python",
   "nbconvert_exporter": "python",
   "pygments_lexer": "ipython3",
   "version": "3.7.6"
  }
 },
 "nbformat": 4,
 "nbformat_minor": 4
}
