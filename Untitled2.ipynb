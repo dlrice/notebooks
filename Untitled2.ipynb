{
 "cells": [
  {
   "cell_type": "code",
   "execution_count": 15,
   "metadata": {},
   "outputs": [],
   "source": [
    "import yaml\n",
    "y = '''\n",
    "Rick & Val:\n",
    "  - Item 1\n",
    "  - Item 2\n",
    "George & Tina:\n",
    "  - Item 1\n",
    "  - Item 2\n",
    "Nana:\n",
    "  - Item 1\n",
    "  - Item 2\n",
    "'''\n",
    "d = yaml.load(y, Loader=yaml.FullLoader)\n",
    "legend = {\n",
    "    'Rick & Val': 'V',\n",
    "    'George & Tina': 'T',\n",
    "    'Nana': 'N',\n",
    "}\n",
    "for ppl, items in d.items():\n",
    "    for item in items:\n",
    "        print(f'{item: <33} {legend[ppl]}')"
   ]
  },
  {
   "cell_type": "code",
   "execution_count": 39,
   "metadata": {},
   "outputs": [],
   "source": []
  },
  {
   "cell_type": "code",
   "execution_count": 19,
   "metadata": {},
   "outputs": [],
   "source": []
  },
  {
   "cell_type": "code",
   "execution_count": 37,
   "metadata": {},
   "outputs": [],
   "source": []
  },
  {
   "cell_type": "code",
   "execution_count": 38,
   "metadata": {},
   "outputs": [
    {
     "name": "stdout",
     "output_type": "stream",
     "text": [
      "Lurpack butter or similar         V\n",
      "Chocolate Hob nobs                V\n",
      "Digestive biscuits                V\n",
      "Plain flour                       V\n",
      "Yeast                             V\n",
      "1 long life milk                  V\n",
      "2% fresh milk                     V\n",
      "One package of bagels             V\n",
      "Fresh raspberries                 V\n",
      "Black or red grapes               V\n",
      "1 yellow pepper                   V\n",
      "Fresh white loaf                  V\n",
      "Cheddar cheese                    V\n",
      "Brown sugar                       V\n",
      "White sugar                       V\n",
      "Whole chicken                     V\n",
      "Efferescent orange vit tablets    T\n",
      "Mouth wash - no alcohol           T\n",
      "6 eggs                            T\n",
      "Orange squash                     T\n",
      "Veggie sliced meat                T\n",
      "Doom bar x 4                      T\n",
      "10 bananas                        T\n",
      "6 cheese and onion crisps         T\n",
      "Mushrooms                         T\n",
      "Tomatoes on the vine x 2          T\n",
      "Peanuts                           T\n",
      "Sliced loaf                       N\n",
      "Crusty large load to cut          N\n",
      "Pack mushrooms                    N\n",
      "Pack oranges                      N\n",
      "Black seedless grapes             N\n",
      "Rich tea biscuits                 N\n",
      "Cat food with gravy in tins       N\n",
      "E45 cream                         N\n",
      "tomatoes                          N\n",
      "broccoli                          N\n",
      "cod in batter x4px freezer        N\n",
      "steakhouse chips 2kg from freezer N\n"
     ]
    }
   ],
   "source": [
    "for ppl, items in d.items():\n",
    "    for item in items:\n",
    "        print(f'{item: <33} {legend[ppl]}')"
   ]
  },
  {
   "cell_type": "code",
   "execution_count": 41,
   "metadata": {},
   "outputs": [
    {
     "name": "stdout",
     "output_type": "stream",
     "text": [
      "Rick & Val\n",
      "Lurpack butter or similar\n",
      "Chocolate Hob nobs\n",
      "Digestive biscuits\n",
      "Plain flour\n",
      "Yeast\n",
      "1 long life milk\n",
      "2% fresh milk\n",
      "One package of bagels\n",
      "Fresh raspberries\n",
      "Black or red grapes\n",
      "1 yellow pepper\n",
      "Fresh white loaf\n",
      "Cheddar cheese\n",
      "Brown sugar\n",
      "White sugar\n",
      "Whole chicken\n",
      "\n",
      "George & Tina\n",
      "Efferescent orange vit tablets\n",
      "Mouth wash - no alcohol\n",
      "6 eggs\n",
      "Orange squash\n",
      "Veggie sliced meat\n",
      "Doom bar x 4\n",
      "10 bananas\n",
      "6 cheese and onion crisps\n",
      "Mushrooms\n",
      "Tomatoes on the vine x 2\n",
      "Peanuts\n",
      "\n",
      "Nana\n",
      "Sliced loaf\n",
      "Crusty large load to cut\n",
      "Pack mushrooms\n",
      "Pack oranges\n",
      "Black seedless grapes\n",
      "Rich tea biscuits\n",
      "Cat food with gravy in tins\n",
      "E45 cream\n",
      "tomatoes\n",
      "broccoli\n",
      "cod in batter x4px freezer\n",
      "steakhouse chips 2kg from freezer\n",
      "\n"
     ]
    }
   ],
   "source": [
    "for ppl, items in d.items():\n",
    "    print(ppl)\n",
    "    for item in items:\n",
    "        print(item)\n",
    "    print()"
   ]
  },
  {
   "cell_type": "code",
   "execution_count": null,
   "metadata": {},
   "outputs": [],
   "source": []
  }
 ],
 "metadata": {
  "kernelspec": {
   "display_name": "Python 3",
   "language": "python",
   "name": "python3"
  },
  "language_info": {
   "codemirror_mode": {
    "name": "ipython",
    "version": 3
   },
   "file_extension": ".py",
   "mimetype": "text/x-python",
   "name": "python",
   "nbconvert_exporter": "python",
   "pygments_lexer": "ipython3",
   "version": "3.6.9"
  }
 },
 "nbformat": 4,
 "nbformat_minor": 4
}
